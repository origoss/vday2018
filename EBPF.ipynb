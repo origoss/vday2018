{
 "cells": [
  {
   "cell_type": "markdown",
   "metadata": {
    "slideshow": {
     "slide_type": "slide"
    }
   },
   "source": [
    "\n",
    " # Cloud-Native Monitoring with EBPF\n",
    "\n",
    "gergely.szabo@origoss.com"
   ]
  },
  {
   "cell_type": "markdown",
   "metadata": {
    "slideshow": {
     "slide_type": "slide"
    }
   },
   "source": [
    "# About Myself\n",
    "* more than 15 years in the industry\n",
    "* research, development, system architect, etc...\n",
    "* currently at Origoss Solutions\n",
    "  * Cloud Native\n",
    "  * Kubernetes\n",
    "  * Prometheus"
   ]
  },
  {
   "cell_type": "markdown",
   "metadata": {
    "slideshow": {
     "slide_type": "slide"
    }
   },
   "source": [
    "# Agenda\n",
    "* BPF\n",
    "* EBPF\n",
    "* Linux Kernel Tracing\n",
    "* Prometheus Exporter"
   ]
  },
  {
   "cell_type": "markdown",
   "metadata": {
    "slideshow": {
     "slide_type": "slide"
    }
   },
   "source": [
    "# BPF"
   ]
  },
  {
   "cell_type": "markdown",
   "metadata": {
    "slideshow": {
     "slide_type": "subslide"
    }
   },
   "source": [
    "# Packet Filtering Problem\n",
    "  \n",
    "![network filtering](filter.svg \"Network filtering\")"
   ]
  },
  {
   "cell_type": "markdown",
   "metadata": {
    "slideshow": {
     "slide_type": "subslide"
    }
   },
   "source": [
    "# Filtering Requirements\n",
    "\n",
    "* Efficient\n",
    "* Flexible filter rules\n",
    "* Safe"
   ]
  },
  {
   "cell_type": "markdown",
   "metadata": {
    "slideshow": {
     "slide_type": "subslide"
    }
   },
   "source": [
    "# Where to Filter?\n",
    "\n",
    "![Where to filter?](filter2.svg \"Where to Filter?\")"
   ]
  },
  {
   "cell_type": "markdown",
   "metadata": {
    "slideshow": {
     "slide_type": "subslide"
    }
   },
   "source": [
    "# BPF\n",
    "\n",
    "## Steven McCanne and Van Jacobson:\n",
    "\n",
    "## The BSD Packet Filter: A New Architecture for User-level Packet Capture, 1992\n",
    "\n",
    "http://www.tcpdump.org/papers/bpf-usenix93.pdf"
   ]
  },
  {
   "cell_type": "markdown",
   "metadata": {
    "slideshow": {
     "slide_type": "subslide"
    }
   },
   "source": [
    "# BPF Architecture\n",
    "\n",
    "![BPF Architecture](bpf_paper_fig1.png \"BPF Architecture\")"
   ]
  },
  {
   "cell_type": "code",
   "execution_count": null,
   "metadata": {
    "slideshow": {
     "slide_type": "subslide"
    }
   },
   "outputs": [],
   "source": [
    "%%bash\n",
    "tcpdump -nc 4"
   ]
  },
  {
   "cell_type": "code",
   "execution_count": null,
   "metadata": {
    "slideshow": {
     "slide_type": "subslide"
    }
   },
   "outputs": [],
   "source": [
    "%%bash\n",
    "tcpdump -nc 4 tcp and port 80"
   ]
  }
 ],
 "metadata": {
  "celltoolbar": "Slideshow",
  "kernelspec": {
   "display_name": "Python 3",
   "language": "python",
   "name": "python3"
  },
  "language_info": {
   "codemirror_mode": {
    "name": "ipython",
    "version": 3
   },
   "file_extension": ".py",
   "mimetype": "text/x-python",
   "name": "python",
   "nbconvert_exporter": "python",
   "pygments_lexer": "ipython3",
   "version": "3.6.5"
  }
 },
 "nbformat": 4,
 "nbformat_minor": 2
}
