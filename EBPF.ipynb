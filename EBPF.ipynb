{
 "cells": [
  {
   "cell_type": "markdown",
   "metadata": {
    "slideshow": {
     "slide_type": "notes"
    }
   },
   "source": [
    "# Preparations"
   ]
  },
  {
   "cell_type": "markdown",
   "metadata": {
    "slideshow": {
     "slide_type": "skip"
    }
   },
   "source": [
    "# Removing KProbe"
   ]
  },
  {
   "cell_type": "code",
   "execution_count": null,
   "metadata": {
    "slideshow": {
     "slide_type": "skip"
    }
   },
   "outputs": [],
   "source": [
    "%%bash\n",
    "sudo sh -c 'echo \"-:demo_probe\" >> /sys/kernel/debug/tracing/kprobe_events'"
   ]
  },
  {
   "cell_type": "code",
   "execution_count": null,
   "metadata": {
    "slideshow": {
     "slide_type": "skip"
    }
   },
   "outputs": [],
   "source": [
    "%%bash\n",
    "sudo cat /sys/kernel/debug/kprobes/list"
   ]
  },
  {
   "cell_type": "markdown",
   "metadata": {
    "slideshow": {
     "slide_type": "slide"
    }
   },
   "source": [
    "\n",
    "# Efficient System Monitoring in Cloud Native Environments\n",
    "\n",
    "gergely.szabo@origoss.com"
   ]
  },
  {
   "cell_type": "markdown",
   "metadata": {
    "slideshow": {
     "slide_type": "slide"
    }
   },
   "source": [
    "# About Myself\n",
    "* more than 15 years in the industry\n",
    "* research, development, system architect, etc...\n",
    "* currently at Origoss Solutions\n",
    "  * Cloud Native\n",
    "  * Kubernetes\n",
    "  * Prometheus"
   ]
  },
  {
   "cell_type": "markdown",
   "metadata": {
    "slideshow": {
     "slide_type": "slide"
    }
   },
   "source": [
    "# Agenda\n",
    "* BPF\n",
    "* Linux kernel tracing\n",
    "* EBPF\n",
    "* EBPF-based in monitoring in the cloud"
   ]
  },
  {
   "cell_type": "markdown",
   "metadata": {
    "slideshow": {
     "slide_type": "slide"
    }
   },
   "source": [
    "# BPF"
   ]
  },
  {
   "cell_type": "markdown",
   "metadata": {
    "slideshow": {
     "slide_type": "subslide"
    }
   },
   "source": [
    "# Packet Filtering Problem\n",
    "  \n",
    "![network filtering](filter_v2.svg \"Network filtering\")"
   ]
  },
  {
   "cell_type": "markdown",
   "metadata": {
    "slideshow": {
     "slide_type": "subslide"
    }
   },
   "source": [
    "# Filtering Requirements\n",
    "\n",
    "* Efficient\n",
    "* Flexible filter rules\n",
    "* Safe"
   ]
  },
  {
   "cell_type": "markdown",
   "metadata": {
    "slideshow": {
     "slide_type": "subslide"
    }
   },
   "source": [
    "# BPF\n",
    "\n",
    "## Steven McCanne and Van Jacobson:\n",
    "\n",
    "## The BSD Packet Filter: A New Architecture for User-level Packet Capture, 1992\n",
    "\n",
    "http://www.tcpdump.org/papers/bpf-usenix93.pdf"
   ]
  },
  {
   "cell_type": "markdown",
   "metadata": {
    "slideshow": {
     "slide_type": "subslide"
    }
   },
   "source": [
    "# BPF Architecture\n",
    "\n",
    "![BPF Architecture](bpf_paper_fig1.png \"BPF Architecture\")"
   ]
  },
  {
   "cell_type": "markdown",
   "metadata": {
    "slideshow": {
     "slide_type": "subslide"
    }
   },
   "source": [
    "# Capturing without Filtering"
   ]
  },
  {
   "cell_type": "code",
   "execution_count": null,
   "metadata": {
    "slideshow": {
     "slide_type": "-"
    }
   },
   "outputs": [],
   "source": [
    "%%bash\n",
    "sudo tcpdump -nc 4"
   ]
  },
  {
   "cell_type": "markdown",
   "metadata": {
    "slideshow": {
     "slide_type": "subslide"
    }
   },
   "source": [
    "# Simple Filtering Rule"
   ]
  },
  {
   "cell_type": "code",
   "execution_count": null,
   "metadata": {
    "slideshow": {
     "slide_type": "-"
    }
   },
   "outputs": [],
   "source": [
    "%%bash\n",
    "sudo tcpdump -nc 4 tcp and port 80"
   ]
  },
  {
   "cell_type": "markdown",
   "metadata": {
    "slideshow": {
     "slide_type": "subslide"
    }
   },
   "source": [
    "# Complex Rule\n",
    "\n",
    "To print all IPv4 HTTP packets to and from port 80, i.e. print only packets that contain data, not, for example, SYN and FIN packets and ACK-only packets."
   ]
  },
  {
   "cell_type": "code",
   "execution_count": null,
   "metadata": {
    "scrolled": true
   },
   "outputs": [],
   "source": [
    "%%bash\n",
    "sudo tcpdump -nc 4 'tcp port 80 and (((ip[2:2] - ((ip[0]&0xf)<<2)) - ((tcp[12]&0xf0)>>2)) != 0)'"
   ]
  },
  {
   "cell_type": "markdown",
   "metadata": {
    "slideshow": {
     "slide_type": "subslide"
    }
   },
   "source": [
    "# How Does This Work?\n",
    "\n",
    "![BPF Architecture](bpf_paper_fig1.png \"BPF Architecture\")"
   ]
  },
  {
   "cell_type": "markdown",
   "metadata": {
    "slideshow": {
     "slide_type": "subslide"
    }
   },
   "source": [
    "# BPF VM Instruction Set\n",
    "\n",
    "![BPF Instructions](bpf_instructions.png \"BPF Instructions\")"
   ]
  },
  {
   "cell_type": "markdown",
   "metadata": {
    "slideshow": {
     "slide_type": "subslide"
    }
   },
   "source": [
    "# Simple Filtering Rule"
   ]
  },
  {
   "cell_type": "code",
   "execution_count": null,
   "metadata": {
    "slideshow": {
     "slide_type": "-"
    }
   },
   "outputs": [],
   "source": [
    "%%bash\n",
    "tcpdump -d tcp and port 80"
   ]
  },
  {
   "cell_type": "markdown",
   "metadata": {
    "slideshow": {
     "slide_type": "subslide"
    }
   },
   "source": [
    "# Complex Rule"
   ]
  },
  {
   "cell_type": "code",
   "execution_count": null,
   "metadata": {
    "scrolled": true
   },
   "outputs": [],
   "source": [
    "%%bash\n",
    "tcpdump -d 'tcp port 80 and (((ip[2:2] - ((ip[0]&0xf)<<2)) - ((tcp[12]&0xf0)>>2)) != 0)'"
   ]
  },
  {
   "cell_type": "markdown",
   "metadata": {
    "slideshow": {
     "slide_type": "slide"
    }
   },
   "source": [
    "# Linux Kernel Tracepoints"
   ]
  },
  {
   "cell_type": "markdown",
   "metadata": {
    "slideshow": {
     "slide_type": "fragment"
    }
   },
   "source": [
    "* A tracepoint placed in code provides a hook to call a function (probe) that you can provide at runtime. \n",
    "* A tracepoint can be \"on\" or \"off\" \n",
    " * When a tracepoint is \"on\", the function you provide is called each time the tracepoint is executed\n",
    "* They can be used for tracing and performance accounting.\n"
   ]
  },
  {
   "cell_type": "markdown",
   "metadata": {
    "slideshow": {
     "slide_type": "subslide"
    }
   },
   "source": [
    "# Adding Tracepoints\n",
    "```c\n",
    "void blk_requeue_request(struct request_queue *q, struct request *rq)\n",
    "{\n",
    "\tblk_delete_timer(rq);\n",
    "\tblk_clear_rq_complete(rq);\n",
    "\ttrace_block_rq_requeue(q, rq);   // <- Tracepoint hook\n",
    "\n",
    "\tif (rq->cmd_flags & REQ_QUEUED)\n",
    "\t\tblk_queue_end_tag(q, rq);\n",
    "\n",
    "\tBUG_ON(blk_queued_rq(rq));\n",
    "\n",
    "\telv_requeue_request(q, rq);\n",
    "}\n",
    "```"
   ]
  },
  {
   "cell_type": "markdown",
   "metadata": {
    "slideshow": {
     "slide_type": "subslide"
    }
   },
   "source": [
    "# List of Tracepoints"
   ]
  },
  {
   "cell_type": "code",
   "execution_count": null,
   "metadata": {},
   "outputs": [],
   "source": [
    "%%bash\n",
    "perf list tracepoint"
   ]
  },
  {
   "cell_type": "markdown",
   "metadata": {
    "slideshow": {
     "slide_type": "subslide"
    }
   },
   "source": [
    "# Tracepoints in Action"
   ]
  },
  {
   "cell_type": "code",
   "execution_count": null,
   "metadata": {},
   "outputs": [],
   "source": [
    "%%bash\n",
    "sudo perf stat -a -e kmem:kmalloc sleep 10"
   ]
  },
  {
   "cell_type": "markdown",
   "metadata": {
    "slideshow": {
     "slide_type": "slide"
    }
   },
   "source": [
    "# Linux Kernel KProbes"
   ]
  },
  {
   "cell_type": "markdown",
   "metadata": {
    "slideshow": {
     "slide_type": "fragment"
    }
   },
   "source": [
    "* dynamically break into any kernel routine and collect debugging and performance information non-disruptively.\n",
    "  * some parts of the kernel code can not be trapped\n",
    "* two types of probes: kprobes, and kretprobes\n",
    "* A kprobe can be inserted on virtually any instruction in the kernel.\n",
    "* A return probe fires when a specified function returns.\n"
   ]
  },
  {
   "cell_type": "markdown",
   "metadata": {
    "slideshow": {
     "slide_type": "subslide"
    }
   },
   "source": [
    "# List of KProbes"
   ]
  },
  {
   "cell_type": "code",
   "execution_count": null,
   "metadata": {},
   "outputs": [],
   "source": [
    "%%bash\n",
    "sudo cat /sys/kernel/debug/kprobes/list"
   ]
  },
  {
   "cell_type": "markdown",
   "metadata": {
    "slideshow": {
     "slide_type": "subslide"
    }
   },
   "source": [
    "# Probing a Linux Function\n",
    "\n",
    "```c\n",
    "void blk_delete_timer(struct request *req)\n",
    "{\n",
    "\tlist_del_init(&req->timeout_list);\n",
    "}\n",
    "```"
   ]
  },
  {
   "cell_type": "code",
   "execution_count": null,
   "metadata": {
    "slideshow": {
     "slide_type": "fragment"
    }
   },
   "outputs": [],
   "source": [
    "%%bash\n",
    "sudo sh -c 'echo p:demo_probe blk_delete_timer >> /sys/kernel/debug/tracing/kprobe_events'"
   ]
  },
  {
   "cell_type": "markdown",
   "metadata": {
    "slideshow": {
     "slide_type": "subslide"
    }
   },
   "source": [
    "# List of KProbes"
   ]
  },
  {
   "cell_type": "code",
   "execution_count": null,
   "metadata": {},
   "outputs": [],
   "source": [
    "%%bash\n",
    "sudo cat /sys/kernel/debug/kprobes/list"
   ]
  },
  {
   "cell_type": "code",
   "execution_count": null,
   "metadata": {
    "slideshow": {
     "slide_type": "fragment"
    }
   },
   "outputs": [],
   "source": [
    "%%bash\n",
    "sudo perf list | grep demo"
   ]
  },
  {
   "cell_type": "markdown",
   "metadata": {
    "slideshow": {
     "slide_type": "subslide"
    }
   },
   "source": [
    "# KProbes in Action"
   ]
  },
  {
   "cell_type": "code",
   "execution_count": null,
   "metadata": {},
   "outputs": [],
   "source": [
    "%%bash\n",
    "sudo perf stat -a -e kprobes:demo_probe sleep 10"
   ]
  },
  {
   "cell_type": "markdown",
   "metadata": {
    "slideshow": {
     "slide_type": "subslide"
    }
   },
   "source": [
    "# Removing KProbe"
   ]
  },
  {
   "cell_type": "code",
   "execution_count": null,
   "metadata": {
    "slideshow": {
     "slide_type": "-"
    }
   },
   "outputs": [],
   "source": [
    "%%bash\n",
    "sudo sh -c 'echo \"-:demo_probe\" >> /sys/kernel/debug/tracing/kprobe_events'"
   ]
  },
  {
   "cell_type": "code",
   "execution_count": null,
   "metadata": {},
   "outputs": [],
   "source": [
    "%%bash\n",
    "sudo cat /sys/kernel/debug/kprobes/list"
   ]
  },
  {
   "cell_type": "code",
   "execution_count": null,
   "metadata": {
    "slideshow": {
     "slide_type": "-"
    }
   },
   "outputs": [],
   "source": [
    "%%bash\n",
    "sudo perf list | grep demo"
   ]
  },
  {
   "cell_type": "markdown",
   "metadata": {
    "slideshow": {
     "slide_type": "slide"
    }
   },
   "source": [
    "# EBPF"
   ]
  },
  {
   "cell_type": "markdown",
   "metadata": {
    "slideshow": {
     "slide_type": "subslide"
    }
   },
   "source": [
    "# Recent Developments: eBPF\n",
    "    \n",
    "* `v3.15`: BPF machine upgrade (64bit registers, more registers, new instruction)\n",
    "* `v3.16`: JIT compiling\n",
    "* `v3.18`: BPF maps\n",
    "* `v4.1`: attach BPF programs to kprobes\n",
    "* `v4.7`: attach BPF programs to tracepoints\n",
    "* `v4.8`: [XDP](https://www.iovisor.org/technology/xdp)\n",
    "* ...\n"
   ]
  },
  {
   "cell_type": "markdown",
   "metadata": {
    "slideshow": {
     "slide_type": "subslide"
    }
   },
   "source": [
    "# eBPF Maps\n",
    "\n",
    "* 15+ map types: `BPF_MAP_TYPE_HASH`, `BPF_MAP_TYPE_ARRAY`, `BPF_MAP_TYPE_PROG_ARRAY`,                `BPF_MAP_TYPE_PERF_EVENT_ARRAY`, ...\n",
    "* associated to a userspace process\n",
    "* read/written by userspace process, eBPF programs"
   ]
  },
  {
   "cell_type": "markdown",
   "metadata": {
    "slideshow": {
     "slide_type": "subslide"
    }
   },
   "source": [
    "# eBPF Map Operations\n",
    "```c\n",
    "int bpf_create_map(enum bpf_map_type map_type, unsigned int key_size, unsigned int value_size, unsigned int max_entries)\n",
    "int bpf_lookup_elem(int fd, const void *key, void *value)\n",
    "int bpf_update_elem(int fd, const void *key, const void *value, uint64_t flags)\n",
    "int bpf_delete_elem(int fd, const void *key)\n",
    "int bpf_get_next_key(int fd, const void *key, void *next_key)\n",
    "```"
   ]
  },
  {
   "cell_type": "markdown",
   "metadata": {
    "slideshow": {
     "slide_type": "subslide"
    }
   },
   "source": [
    "# eBPF Programs\n",
    "* 20+ program types: `BPF_PROG_TYPE_SOCKET_FILTER`,\t`BPF_PROG_TYPE_KPROBE`,\t`BPF_PROG_TYPE_TRACEPOINT`, `BPF_PROG_TYPE_XDP`, ...\n",
    "* associated to a userspace process\n",
    "* event-based execution (e.g. tracepoint hooks)\n",
    "* executed by BPF VM\n",
    "  * safe\n",
    "  * efficient"
   ]
  },
  {
   "cell_type": "markdown",
   "metadata": {
    "slideshow": {
     "slide_type": "subslide"
    }
   },
   "source": [
    "# eBPF Program Operations\n",
    "```c\n",
    "int bpf_prog_load(enum bpf_prog_type type, const struct bpf_insn *insns, int insn_cnt, const char *license)\n",
    "```"
   ]
  },
  {
   "cell_type": "markdown",
   "metadata": {
    "slideshow": {
     "slide_type": "subslide"
    }
   },
   "source": [
    "# eBPF Program as C struct\n",
    "```c\n",
    "struct bpf_insn prog[] = {\n",
    "     BPF_MOV64_REG(BPF_REG_6, BPF_REG_1),        /* r6 = r1 */\n",
    "     BPF_LD_ABS(BPF_B, ETH_HLEN + offsetof(struct iphdr, protocol)),\n",
    "                                       /* r0 = ip->proto */\n",
    "     BPF_STX_MEM(BPF_W, BPF_REG_10, BPF_REG_0, -4),\n",
    "                                       /* *(u32 *)(fp - 4) = r0 */\n",
    "     BPF_MOV64_REG(BPF_REG_2, BPF_REG_10),       /* r2 = fp */\n",
    "     BPF_ALU64_IMM(BPF_ADD, BPF_REG_2, -4),      /* r2 = r2 - 4 */\n",
    "     BPF_LD_MAP_FD(BPF_REG_1, map_fd),           /* r1 = map_fd */\n",
    "     BPF_CALL_FUNC(BPF_FUNC_map_lookup_elem),\n",
    "                                       /* r0 = map_lookup(r1, r2) */\n",
    "     BPF_JMP_IMM(BPF_JEQ, BPF_REG_0, 0, 2),\n",
    "                                       /* if (r0 == 0) goto pc+2 */\n",
    "     BPF_MOV64_IMM(BPF_REG_1, 1),                /* r1 = 1 */\n",
    "     BPF_XADD(BPF_DW, BPF_REG_0, BPF_REG_1, 0, 0),\n",
    "                                       /* lock *(u64 *) r0 += r1 */\n",
    "     BPF_MOV64_IMM(BPF_REG_0, 0),                /* r0 = 0 */\n",
    "     BPF_EXIT_INSN(),                            /* return r0 */\n",
    "};\n",
    "```"
   ]
  },
  {
   "cell_type": "markdown",
   "metadata": {
    "slideshow": {
     "slide_type": "subslide"
    }
   },
   "source": [
    "# eBPF Program as C Code\n",
    "\n",
    "Can be compiled with LLVM/Clang using the BPF backend.\n",
    "\n",
    "```c\n",
    "int bpf_prog1(struct pt_regs *ctx)\n",
    "{\n",
    "\t/* attaches to kprobe netif_receive_skb,\n",
    "\t * looks for packets on loobpack device and prints them\n",
    "\t */\n",
    "\tchar devname[IFNAMSIZ];\n",
    "\tstruct net_device *dev;\n",
    "\tstruct sk_buff *skb;\n",
    "\tint len;\n",
    "\n",
    "\t/* non-portable! works for the given kernel only */\n",
    "\tskb = (struct sk_buff *) PT_REGS_PARM1(ctx);\n",
    "\tdev = _(skb->dev);\n",
    "\tlen = _(skb->len);\n",
    "\n",
    "\tbpf_probe_read(devname, sizeof(devname), dev->name);\n",
    "\n",
    "\tif (devname[0] == 'l' && devname[1] == 'o') {\n",
    "\t\tchar fmt[] = \"skb %p len %d\\n\";\n",
    "\t\t/* using bpf_trace_printk() for DEBUG ONLY */\n",
    "\t\tbpf_trace_printk(fmt, sizeof(fmt), skb, len);\n",
    "\t}\n",
    "\n",
    "\treturn 0;\n",
    "}\n",
    "```"
   ]
  },
  {
   "cell_type": "markdown",
   "metadata": {
    "slideshow": {
     "slide_type": "subslide"
    }
   },
   "source": [
    "# eBPF-based Monitoring\n",
    "\n",
    "![eBPF Monitoring](ebpf.svg \"eBPF-based Monitoring\")"
   ]
  },
  {
   "cell_type": "markdown",
   "metadata": {
    "slideshow": {
     "slide_type": "subslide"
    }
   },
   "source": [
    "# eBPF WorkFlow: Linux Kernel BPF Samples\n",
    "* see `linux/samples/bpf`\n",
    "* eBPF kernel part (.c) \n",
    "  * contains map and program definitions\n",
    "  * compiled with LLVM -> .o\n",
    "* eBPF user part (.c) \n",
    "  * compiles to executable\n",
    "  * extracts maps and programs from kernel part (.o)\n",
    "  * creates maps: `bpf_create_map`\n",
    "  * relocates maps in program codes\n",
    "  * loads programs: `bpf_prog_load`\n",
    "  * reads maps and generates output"
   ]
  },
  {
   "cell_type": "markdown",
   "metadata": {
    "slideshow": {
     "slide_type": "subslide"
    }
   },
   "source": [
    "# eBPF WorkFlow: `iovisor/bcc`\n",
    "* see https://github.com/iovisor/bcc\n",
    "* single Python script that contains:\n",
    "  * definition of eBPF maps\n",
    "  * definition of eBPF programs (as LLVM compatible C code)\n",
    "  * code to read and process the maps\n",
    "* C code is compiled when the script starts (LLVM)"
   ]
  },
  {
   "cell_type": "markdown",
   "metadata": {
    "slideshow": {
     "slide_type": "subslide"
    }
   },
   "source": [
    "# eBPF Example\n",
    "https://github.com/iovisor/bcc/blob/master/tools/filelife.py\n",
    "```python\n",
    "#!/usr/bin/python\n",
    "# @lint-avoid-python-3-compatibility-imports\n",
    "#\n",
    "# filelife    Trace the lifespan of short-lived files.\n",
    "#             For Linux, uses BCC, eBPF. Embedded C.\n",
    "#\n",
    "# This traces the creation and deletion of files, providing information\n",
    "# on who deleted the file, the file age, and the file name. The intent is to\n",
    "# provide information on short-lived files, for debugging or performance\n",
    "# analysis.\n",
    "#\n",
    "# USAGE: filelife [-h] [-p PID]\n",
    "#\n",
    "# Copyright 2016 Netflix, Inc.\n",
    "# Licensed under the Apache License, Version 2.0 (the \"License\")\n",
    "#\n",
    "# 08-Feb-2015   Brendan Gregg   Created this.\n",
    "# 17-Feb-2016   Allan McAleavy updated for BPF_PERF_OUTPUT\n",
    "\n",
    "from __future__ import print_function\n",
    "from bcc import BPF\n",
    "import argparse\n",
    "from time import strftime\n",
    "import ctypes as ct\n",
    "\n",
    "# arguments\n",
    "examples = \"\"\"examples:\n",
    "    ./filelife           # trace all stat() syscalls\n",
    "    ./filelife -p 181    # only trace PID 181\n",
    "\"\"\"\n",
    "parser = argparse.ArgumentParser(\n",
    "    description=\"Trace stat() syscalls\",\n",
    "    formatter_class=argparse.RawDescriptionHelpFormatter,\n",
    "    epilog=examples)\n",
    "parser.add_argument(\"-p\", \"--pid\",\n",
    "    help=\"trace this PID only\")\n",
    "parser.add_argument(\"--ebpf\", action=\"store_true\",\n",
    "    help=argparse.SUPPRESS)\n",
    "args = parser.parse_args()\n",
    "debug = 0\n",
    "\n",
    "# define BPF program\n",
    "bpf_text = \"\"\"\n",
    "#include <uapi/linux/ptrace.h>\n",
    "#include <linux/fs.h>\n",
    "#include <linux/sched.h>\n",
    "struct data_t {\n",
    "    u32 pid;\n",
    "    u64 delta;\n",
    "    char comm[TASK_COMM_LEN];\n",
    "    char fname[DNAME_INLINE_LEN];\n",
    "};\n",
    "BPF_HASH(birth, struct dentry *);\n",
    "BPF_PERF_OUTPUT(events);\n",
    "// trace file creation time\n",
    "int trace_create(struct pt_regs *ctx, struct inode *dir, struct dentry *dentry)\n",
    "{\n",
    "    u32 pid = bpf_get_current_pid_tgid();\n",
    "    FILTER\n",
    "    u64 ts = bpf_ktime_get_ns();\n",
    "    birth.update(&dentry, &ts);\n",
    "    return 0;\n",
    "};\n",
    "// trace file deletion and output details\n",
    "int trace_unlink(struct pt_regs *ctx, struct inode *dir, struct dentry *dentry)\n",
    "{\n",
    "    struct data_t data = {};\n",
    "    u32 pid = bpf_get_current_pid_tgid();\n",
    "    FILTER\n",
    "    u64 *tsp, delta;\n",
    "    tsp = birth.lookup(&dentry);\n",
    "    if (tsp == 0) {\n",
    "        return 0;   // missed create\n",
    "    }\n",
    "    delta = (bpf_ktime_get_ns() - *tsp) / 1000000;\n",
    "    birth.delete(&dentry);\n",
    "    struct qstr d_name = dentry->d_name;\n",
    "    if (d_name.len == 0)\n",
    "        return 0;\n",
    "    if (bpf_get_current_comm(&data.comm, sizeof(data.comm)) == 0) {\n",
    "        data.pid = pid;\n",
    "        data.delta = delta;\n",
    "        bpf_probe_read(&data.fname, sizeof(data.fname), d_name.name);\n",
    "    }\n",
    "    events.perf_submit(ctx, &data, sizeof(data));\n",
    "    return 0;\n",
    "}\n",
    "\"\"\"\n",
    "\n",
    "TASK_COMM_LEN = 16            # linux/sched.h\n",
    "DNAME_INLINE_LEN = 255        # linux/dcache.h\n",
    "\n",
    "class Data(ct.Structure):\n",
    "    _fields_ = [\n",
    "        (\"pid\", ct.c_uint),\n",
    "        (\"delta\", ct.c_ulonglong),\n",
    "        (\"comm\", ct.c_char * TASK_COMM_LEN),\n",
    "        (\"fname\", ct.c_char * DNAME_INLINE_LEN)\n",
    "    ]\n",
    "\n",
    "if args.pid:\n",
    "    bpf_text = bpf_text.replace('FILTER',\n",
    "        'if (pid != %s) { return 0; }' % args.pid)\n",
    "else:\n",
    "    bpf_text = bpf_text.replace('FILTER', '')\n",
    "if debug or args.ebpf:\n",
    "    print(bpf_text)\n",
    "    if args.ebpf:\n",
    "        exit()\n",
    "\n",
    "# initialize BPF\n",
    "b = BPF(text=bpf_text)\n",
    "b.attach_kprobe(event=\"vfs_create\", fn_name=\"trace_create\")\n",
    "# newer kernels (say, 4.8) may don't fire vfs_create, so record (or overwrite)\n",
    "# the timestamp in security_inode_create():\n",
    "b.attach_kprobe(event=\"security_inode_create\", fn_name=\"trace_create\")\n",
    "b.attach_kprobe(event=\"vfs_unlink\", fn_name=\"trace_unlink\")\n",
    "\n",
    "# header\n",
    "print(\"%-8s %-6s %-16s %-7s %s\" % (\"TIME\", \"PID\", \"COMM\", \"AGE(s)\", \"FILE\"))\n",
    "\n",
    "# process event\n",
    "def print_event(cpu, data, size):\n",
    "    event = ct.cast(data, ct.POINTER(Data)).contents\n",
    "    print(\"%-8s %-6d %-16s %-7.2f %s\" % (strftime(\"%H:%M:%S\"), event.pid,\n",
    "        event.comm.decode('utf-8', 'replace'), float(event.delta) / 1000,\n",
    "        event.fname.decode('utf-8', 'replace')))\n",
    "\n",
    "b[\"events\"].open_perf_buffer(print_event)\n",
    "while 1:\n",
    "b.perf_buffer_poll()\n",
    "```"
   ]
  },
  {
   "cell_type": "markdown",
   "metadata": {
    "slideshow": {
     "slide_type": "slide"
    }
   },
   "source": [
    "# Prometheus eBPF Exporter"
   ]
  },
  {
   "cell_type": "markdown",
   "metadata": {
    "slideshow": {
     "slide_type": "fragment"
    }
   },
   "source": [
    "> Motivation of this exporter is to allow you to write eBPF code and export metrics that are not otherwise accessible from the Linux kernel.\n",
    "* https://github.com/cloudflare/ebpf_exporter\n",
    "\n",
    "* leverages on tools made by `iovisor/bcc`\n",
    "* written in go\n",
    "* exported metrics are defined as yaml files"
   ]
  },
  {
   "cell_type": "markdown",
   "metadata": {
    "slideshow": {
     "slide_type": "subslide"
    }
   },
   "source": [
    "# Prometheus eBPF Exporter - Example\n",
    "https://github.com/cloudflare/ebpf_exporter/blob/master/examples/bio.yaml\n",
    "```yaml\n",
    "programs:\n",
    "  # See:\n",
    "  # * https://github.com/iovisor/bcc/blob/master/tools/biolatency.py\n",
    "  # * https://github.com/iovisor/bcc/blob/master/tools/biolatency_example.txt\n",
    "  #\n",
    "  # See also: bio-tracepoints.yaml\n",
    "  - name: bio\n",
    "    metrics:\n",
    "      histograms:\n",
    "        - name: bio_latency_seconds\n",
    "          help: Block IO latency histogram\n",
    "          table: io_latency\n",
    "          bucket_type: exp2\n",
    "          bucket_min: 0\n",
    "          bucket_max: 26\n",
    "          bucket_multiplier: 0.000001 # microseconds to seconds\n",
    "          labels:\n",
    "            - name: device\n",
    "              size: 32\n",
    "              decoders:\n",
    "                - name: string\n",
    "            - name: operation\n",
    "              size: 8\n",
    "              decoders:\n",
    "                - name: uint\n",
    "                - name: static_map\n",
    "                  static_map:\n",
    "                    1: read\n",
    "                    2: write\n",
    "            - name: bucket\n",
    "              size: 8\n",
    "              decoders:\n",
    "                - name: uint\n",
    "        - name: bio_size_bytes\n",
    "          help: Block IO size histogram with kibibyte buckets\n",
    "          table: io_size\n",
    "          bucket_type: exp2\n",
    "          bucket_min: 0\n",
    "          bucket_max: 15\n",
    "          bucket_multiplier: 1024 # kibibytes to bytes\n",
    "          labels:\n",
    "            - name: device\n",
    "              size: 32\n",
    "              decoders:\n",
    "                - name: string\n",
    "            - name: operation\n",
    "              size: 8\n",
    "              decoders:\n",
    "                - name: uint\n",
    "                - name: static_map\n",
    "                  static_map:\n",
    "                    1: read\n",
    "                    2: write\n",
    "            - name: bucket\n",
    "              size: 8\n",
    "              decoders:\n",
    "                - name: uint\n",
    "    kprobes:\n",
    "      blk_start_request: trace_req_start\n",
    "      blk_mq_start_request: trace_req_start\n",
    "      blk_account_io_completion: trace_req_completion\n",
    "    code: |\n",
    "      #include <linux/blkdev.h>\n",
    "      #include <linux/blk_types.h>\n",
    "      typedef struct disk_key {\n",
    "          char disk[32];\n",
    "          u8 op;\n",
    "          u64 slot;\n",
    "      } disk_key_t;\n",
    "      // Max number of disks we expect to see on the host\n",
    "      const u8 max_disks = 255;\n",
    "      // 27 buckets for latency, max range is 33.6s .. 67.1s\n",
    "      const u8 max_latency_slot = 26;\n",
    "      // 16 buckets per disk in kib, max range is 16mib .. 32mib\n",
    "      const u8 max_size_slot = 15;\n",
    "      // Hash to temporily hold the start time of each bio request, max 10k in-flight by default\n",
    "      BPF_HASH(start, struct request *);\n",
    "      // Histograms to record latencies\n",
    "      BPF_HISTOGRAM(io_latency, disk_key_t, (max_latency_slot + 1) * max_disks);\n",
    "      // Histograms to record sizes\n",
    "      BPF_HISTOGRAM(io_size, disk_key_t, (max_size_slot + 1) * max_disks);\n",
    "      // Record start time of a request\n",
    "      int trace_req_start(struct pt_regs *ctx, struct request *req) {\n",
    "          u64 ts = bpf_ktime_get_ns();\n",
    "          start.update(&req, &ts);\n",
    "          return 0;\n",
    "      }\n",
    "      // Calculate request duration and store in appropriate histogram bucket\n",
    "      int trace_req_completion(struct pt_regs *ctx, struct request *req, unsigned int bytes) {\n",
    "          u64 *tsp, delta;\n",
    "          // Fetch timestamp and calculate delta\n",
    "          tsp = start.lookup(&req);\n",
    "          if (tsp == 0) {\n",
    "              return 0; // missed issue\n",
    "          }\n",
    "          // There are write request with zero length on sector zero,\n",
    "          // which do not seem to be real writes to device.\n",
    "          if (req->__sector == 0 && req->__data_len == 0) {\n",
    "            return 0;\n",
    "          }\n",
    "          // Disk that received the request\n",
    "          struct gendisk *disk = req->rq_disk;\n",
    "          // Delta in nanoseconds\n",
    "          delta = bpf_ktime_get_ns() - *tsp;\n",
    "          // Convert to microseconds\n",
    "          delta /= 1000;\n",
    "          // Latency histogram key\n",
    "          u64 latency_slot = bpf_log2l(delta);\n",
    "          // Cap latency bucket at max value\n",
    "          if (latency_slot > max_latency_slot) {\n",
    "              latency_slot = max_latency_slot;\n",
    "          }\n",
    "          disk_key_t latency_key = { .slot = latency_slot };\n",
    "          bpf_probe_read(&latency_key.disk, sizeof(latency_key.disk), &disk->disk_name);\n",
    "          // Request size histogram key\n",
    "          u64 size_slot = bpf_log2(bytes / 1024);\n",
    "          // Cap latency bucket at max value\n",
    "          if (size_slot > max_size_slot) {\n",
    "              size_slot = max_size_slot;\n",
    "          }\n",
    "          disk_key_t size_key = { .slot = size_slot };\n",
    "          bpf_probe_read(&size_key.disk, sizeof(size_key.disk), &disk->disk_name);\n",
    "          if ((req->cmd_flags & REQ_OP_MASK) == REQ_OP_WRITE) {\n",
    "              latency_key.op = 2;\n",
    "              size_key.op    = 2;\n",
    "          } else {\n",
    "              latency_key.op = 1;\n",
    "              size_key.op    = 1;\n",
    "          }\n",
    "          io_latency.increment(latency_key);\n",
    "          io_size.increment(size_key);\n",
    "          start.delete(&req);\n",
    "          return 0;\n",
    "      }\n",
    "```"
   ]
  },
  {
   "cell_type": "markdown",
   "metadata": {
    "slideshow": {
     "slide_type": "subslide"
    }
   },
   "source": [
    "# Using eBPF for Monitoring in Cloud-Native Environment"
   ]
  },
  {
   "cell_type": "markdown",
   "metadata": {
    "slideshow": {
     "slide_type": "fragment"
    }
   },
   "source": [
    "Cloud Native:\n",
    "* microservice architecture\n",
    "* containerized\n",
    "* orchestrated"
   ]
  },
  {
   "cell_type": "markdown",
   "metadata": {
    "slideshow": {
     "slide_type": "subslide"
    }
   },
   "source": [
    "# Pitfall #1: Dependencies\n",
    "* Linux Kernel headers\n",
    "* bcc\n",
    "* LLVM"
   ]
  },
  {
   "cell_type": "markdown",
   "metadata": {
    "slideshow": {
     "slide_type": "subslide"
    }
   },
   "source": [
    "# Pitfall #2: KProbes and Kernel Version\n",
    "```c\n",
    "static int bpf_prog_load(union bpf_attr *attr)\n",
    "{\n",
    "\tenum bpf_prog_type type = attr->prog_type;\n",
    "\tstruct bpf_prog *prog;\n",
    "\tint err;\n",
    "\tchar license[128];\n",
    "\tbool is_gpl;\n",
    "\n",
    "\tif (CHECK_ATTR(BPF_PROG_LOAD))\n",
    "\t\treturn -EINVAL;\n",
    "\n",
    "\tif (attr->prog_flags & ~BPF_F_STRICT_ALIGNMENT)\n",
    "\t\treturn -EINVAL;\n",
    "\n",
    "\t/* copy eBPF program license from user space */\n",
    "\tif (strncpy_from_user(license, u64_to_user_ptr(attr->license),\n",
    "\t\t\t      sizeof(license) - 1) < 0)\n",
    "\t\treturn -EFAULT;\n",
    "\tlicense[sizeof(license) - 1] = 0;\n",
    "\n",
    "\t/* eBPF programs must be GPL compatible to use GPL-ed functions */\n",
    "\tis_gpl = license_is_gpl_compatible(license);\n",
    "\n",
    "\tif (attr->insn_cnt == 0 || attr->insn_cnt > BPF_MAXINSNS)\n",
    "\t\treturn -E2BIG;\n",
    "\n",
    "\tif (type == BPF_PROG_TYPE_KPROBE &&\n",
    "\t    attr->kern_version != LINUX_VERSION_CODE)\n",
    "\t\treturn -EINVAL;\n",
    "    /* ... */\n",
    "}\n",
    "```"
   ]
  },
  {
   "cell_type": "markdown",
   "metadata": {
    "slideshow": {
     "slide_type": "subslide"
    }
   },
   "source": [
    "# Pitfall #3: KProbes and Stability\n",
    "* Kprobe can be created for any kernel function\n",
    "* Most of the Linux kernel source code is subject to change\n",
    "  * in-kernel APIs and ABIs are unstable\n",
    "* Distribution-specific kernel modifications, propriatery kernels"
   ]
  },
  {
   "cell_type": "markdown",
   "metadata": {
    "slideshow": {
     "slide_type": "subslide"
    }
   },
   "source": [
    "# Pitfall #4: Kernel Support\n",
    "* `v4.1`: attach BPF programs to kprobes (21 June, 2015)\n",
    "* `v4.7`: attach BPF programs to tracepoints (24 July, 2016)\n",
    "* RHEL 7.6 (30 October, 2018) has `3.10.0-957`"
   ]
  },
  {
   "cell_type": "markdown",
   "metadata": {
    "slideshow": {
     "slide_type": "slide"
    }
   },
   "source": [
    "# Ongoing Activities\n",
    "* eBPF-based Prometheus exporter, containerized\n",
    "* run-time configurable eBPF metrics\n",
    "* self contained\n",
    "  * no dep on `iovisor/bcc`\n",
    "  * no dep on Linux kernel headers\n",
    "* supporting the major Linux distributions"
   ]
  },
  {
   "cell_type": "markdown",
   "metadata": {
    "slideshow": {
     "slide_type": "slide"
    }
   },
   "source": [
    "# Thank you!\n",
    "\n",
    "## Questions?"
   ]
  }
 ],
 "metadata": {
  "celltoolbar": "Slideshow",
  "kernelspec": {
   "display_name": "Python 3",
   "language": "python",
   "name": "python3"
  },
  "language_info": {
   "codemirror_mode": {
    "name": "ipython",
    "version": 3
   },
   "file_extension": ".py",
   "mimetype": "text/x-python",
   "name": "python",
   "nbconvert_exporter": "python",
   "pygments_lexer": "ipython3",
   "version": "3.6.5"
  }
 },
 "nbformat": 4,
 "nbformat_minor": 2
}
