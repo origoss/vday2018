{
 "cells": [
  {
   "cell_type": "markdown",
   "metadata": {
    "slideshow": {
     "slide_type": "slide"
    }
   },
   "source": [
    "\n",
    " # Cloud-Native Monitoring with EBPF\n",
    "\n",
    "gergely.szabo@origoss.com"
   ]
  },
  {
   "cell_type": "markdown",
   "metadata": {
    "slideshow": {
     "slide_type": "slide"
    }
   },
   "source": [
    "# About Myself\n",
    "* more than 15 years in the industry\n",
    "* research, development, system architect, etc...\n",
    "* currently at Origoss Solutions\n",
    "  * Cloud Native\n",
    "  * Kubernetes\n",
    "  * Prometheus"
   ]
  },
  {
   "cell_type": "markdown",
   "metadata": {
    "slideshow": {
     "slide_type": "slide"
    }
   },
   "source": [
    "# Agenda\n",
    "* BPF\n",
    "* Linux Kernel Tracing\n",
    "* EBPF\n",
    "* Prometheus Exporter"
   ]
  },
  {
   "cell_type": "markdown",
   "metadata": {
    "slideshow": {
     "slide_type": "slide"
    }
   },
   "source": [
    "# BPF"
   ]
  },
  {
   "cell_type": "markdown",
   "metadata": {
    "slideshow": {
     "slide_type": "subslide"
    }
   },
   "source": [
    "# Packet Filtering Problem\n",
    "  \n",
    "![network filtering](filter.svg \"Network filtering\")"
   ]
  },
  {
   "cell_type": "markdown",
   "metadata": {
    "slideshow": {
     "slide_type": "subslide"
    }
   },
   "source": [
    "# Filtering Requirements\n",
    "\n",
    "* Efficient\n",
    "* Flexible filter rules\n",
    "* Safe"
   ]
  },
  {
   "cell_type": "markdown",
   "metadata": {
    "slideshow": {
     "slide_type": "subslide"
    }
   },
   "source": [
    "# Where to Filter?\n",
    "\n",
    "![Where to filter?](filter2.svg \"Where to Filter?\")"
   ]
  },
  {
   "cell_type": "markdown",
   "metadata": {
    "slideshow": {
     "slide_type": "subslide"
    }
   },
   "source": [
    "# BPF\n",
    "\n",
    "## Steven McCanne and Van Jacobson:\n",
    "\n",
    "## The BSD Packet Filter: A New Architecture for User-level Packet Capture, 1992\n",
    "\n",
    "http://www.tcpdump.org/papers/bpf-usenix93.pdf"
   ]
  },
  {
   "cell_type": "markdown",
   "metadata": {
    "slideshow": {
     "slide_type": "subslide"
    }
   },
   "source": [
    "# BPF Architecture\n",
    "\n",
    "![BPF Architecture](bpf_paper_fig1.png \"BPF Architecture\")"
   ]
  },
  {
   "cell_type": "markdown",
   "metadata": {
    "slideshow": {
     "slide_type": "subslide"
    }
   },
   "source": [
    "# Capturing without Filtering"
   ]
  },
  {
   "cell_type": "code",
   "execution_count": null,
   "metadata": {
    "slideshow": {
     "slide_type": "-"
    }
   },
   "outputs": [],
   "source": [
    "%%bash\n",
    "sudo tcpdump -nc 4"
   ]
  },
  {
   "cell_type": "markdown",
   "metadata": {
    "slideshow": {
     "slide_type": "subslide"
    }
   },
   "source": [
    "# Simple Filtering Rule"
   ]
  },
  {
   "cell_type": "code",
   "execution_count": null,
   "metadata": {
    "slideshow": {
     "slide_type": "-"
    }
   },
   "outputs": [],
   "source": [
    "%%bash\n",
    "sudo tcpdump -nc 4 tcp and port 80"
   ]
  },
  {
   "cell_type": "markdown",
   "metadata": {
    "slideshow": {
     "slide_type": "subslide"
    }
   },
   "source": [
    "# Complex Rule\n",
    "\n",
    "To print all IPv4 HTTP packets to and from port 80, i.e. print only packets that contain data, not, for example, SYN and FIN packets and ACK-only packets."
   ]
  },
  {
   "cell_type": "code",
   "execution_count": null,
   "metadata": {
    "scrolled": true
   },
   "outputs": [],
   "source": [
    "%%bash\n",
    "sudo tcpdump -nc 4 'tcp port 80 and (((ip[2:2] - ((ip[0]&0xf)<<2)) - ((tcp[12]&0xf0)>>2)) != 0)'"
   ]
  },
  {
   "cell_type": "code",
   "execution_count": null,
   "metadata": {},
   "outputs": [],
   "source": []
  },
  {
   "cell_type": "markdown",
   "metadata": {
    "slideshow": {
     "slide_type": "subslide"
    }
   },
   "source": [
    "# How Does This Work?\n",
    "\n",
    "![BPF Architecture](bpf_paper_fig1.png \"BPF Architecture\")"
   ]
  },
  {
   "cell_type": "markdown",
   "metadata": {
    "slideshow": {
     "slide_type": "subslide"
    }
   },
   "source": [
    "# BPF VM Instruction Set\n",
    "\n",
    "![BPF Instructions](bpf_instructions.png \"BPF Instructions\")"
   ]
  },
  {
   "cell_type": "markdown",
   "metadata": {
    "slideshow": {
     "slide_type": "subslide"
    }
   },
   "source": [
    "# Simple Filtering Rule"
   ]
  },
  {
   "cell_type": "code",
   "execution_count": null,
   "metadata": {
    "slideshow": {
     "slide_type": "-"
    }
   },
   "outputs": [],
   "source": [
    "%%bash\n",
    "tcpdump -d tcp and port 80"
   ]
  },
  {
   "cell_type": "markdown",
   "metadata": {
    "slideshow": {
     "slide_type": "subslide"
    }
   },
   "source": [
    "# Complex Rule"
   ]
  },
  {
   "cell_type": "code",
   "execution_count": null,
   "metadata": {
    "scrolled": true
   },
   "outputs": [],
   "source": [
    "%%bash\n",
    "tcpdump -d 'tcp port 80 and (((ip[2:2] - ((ip[0]&0xf)<<2)) - ((tcp[12]&0xf0)>>2)) != 0)'"
   ]
  },
  {
   "cell_type": "markdown",
   "metadata": {
    "slideshow": {
     "slide_type": "slide"
    }
   },
   "source": [
    "# Linux Kernel Tracepoints"
   ]
  },
  {
   "cell_type": "markdown",
   "metadata": {
    "slideshow": {
     "slide_type": "fragment"
    }
   },
   "source": [
    "* A tracepoint placed in code provides a hook to call a function (probe) that you can provide at runtime. \n",
    "* A tracepoint can be \"on\" or \"off\" \n",
    " * When a tracepoint is \"on\", the function you provide is called each time the tracepoint is executed\n",
    "* They can be used for tracing and performance accounting.\n"
   ]
  },
  {
   "cell_type": "markdown",
   "metadata": {
    "slideshow": {
     "slide_type": "subslide"
    }
   },
   "source": [
    "# Adding Tracepoints\n",
    "```c\n",
    "void blk_requeue_request(struct request_queue *q, struct request *rq)\n",
    "{\n",
    "\tblk_delete_timer(rq);\n",
    "\tblk_clear_rq_complete(rq);\n",
    "\ttrace_block_rq_requeue(q, rq);   // <- Tracepoint hook\n",
    "\n",
    "\tif (rq->cmd_flags & REQ_QUEUED)\n",
    "\t\tblk_queue_end_tag(q, rq);\n",
    "\n",
    "\tBUG_ON(blk_queued_rq(rq));\n",
    "\n",
    "\telv_requeue_request(q, rq);\n",
    "}\n",
    "```"
   ]
  },
  {
   "cell_type": "markdown",
   "metadata": {},
   "source": [
    "```c\n",
    "void blk_requeue_request(struct request_queue *q, struct request *rq)\n",
    "{\n",
    "\tblk_delete_timer(rq);\n",
    "\tblk_clear_rq_complete(rq);\n",
    "\ttrace_block_rq_requeue(q, rq);\n",
    "\n",
    "\tif (rq->cmd_flags & REQ_QUEUED)x\n",
    "\t\tblk_queue_end_tag(q, rq);\n",
    "\n",
    "\tBUG_ON(blk_queued_rq(rq));\n",
    "\n",
    "\telv_requeue_request(q, rq);\n",
    "}\n",
    "```"
   ]
  },
  {
   "cell_type": "markdown",
   "metadata": {
    "slideshow": {
     "slide_type": "subslide"
    }
   },
   "source": [
    "# List of Tracepoints"
   ]
  },
  {
   "cell_type": "code",
   "execution_count": null,
   "metadata": {},
   "outputs": [],
   "source": [
    "%%bash\n",
    "perf list tracepoint"
   ]
  },
  {
   "cell_type": "markdown",
   "metadata": {
    "slideshow": {
     "slide_type": "subslide"
    }
   },
   "source": [
    "# Tracepoints in Action"
   ]
  },
  {
   "cell_type": "code",
   "execution_count": null,
   "metadata": {},
   "outputs": [],
   "source": [
    "%%bash\n",
    "sudo perf stat -a -e kmem:kmalloc sleep 10"
   ]
  },
  {
   "cell_type": "markdown",
   "metadata": {
    "slideshow": {
     "slide_type": "slide"
    }
   },
   "source": [
    "# Linux Kernel KProbes"
   ]
  },
  {
   "cell_type": "markdown",
   "metadata": {
    "slideshow": {
     "slide_type": "fragment"
    }
   },
   "source": [
    "* dynamically break into any kernel routine and collect debugging and performance information non-disruptively.\n",
    "  * some parts of the kernel code can not be trapped\n",
    "* two types of probes: kprobes, and kretprobes\n",
    "* A kprobe can be inserted on virtually any instruction in the kernel.\n",
    "* A return probe fires when a specified function returns.\n"
   ]
  },
  {
   "cell_type": "markdown",
   "metadata": {
    "slideshow": {
     "slide_type": "subslide"
    }
   },
   "source": [
    "# List of KProbes"
   ]
  },
  {
   "cell_type": "code",
   "execution_count": null,
   "metadata": {},
   "outputs": [],
   "source": [
    "%%bash\n",
    "sudo cat /sys/kernel/debug/kprobes/list"
   ]
  },
  {
   "cell_type": "markdown",
   "metadata": {
    "slideshow": {
     "slide_type": "subslide"
    }
   },
   "source": [
    "# Probing a Linux Function\n",
    "\n",
    "```c\n",
    "void blk_delete_timer(struct request *req)\n",
    "{\n",
    "\tlist_del_init(&req->timeout_list);\n",
    "}\n",
    "```"
   ]
  },
  {
   "cell_type": "code",
   "execution_count": 4,
   "metadata": {
    "slideshow": {
     "slide_type": "fragment"
    }
   },
   "outputs": [],
   "source": [
    "%%bash\n",
    "sudo sh -c 'echo p:demo_probe blk_delete_timer >> /sys/kernel/debug/tracing/kprobe_events'"
   ]
  },
  {
   "cell_type": "markdown",
   "metadata": {
    "slideshow": {
     "slide_type": "subslide"
    }
   },
   "source": [
    "# List of KProbes"
   ]
  },
  {
   "cell_type": "code",
   "execution_count": 6,
   "metadata": {},
   "outputs": [
    {
     "name": "stdout",
     "output_type": "stream",
     "text": [
      "00000000356f0433  k  blk_delete_timer+0x0    [DISABLED][FTRACE]\n"
     ]
    }
   ],
   "source": [
    "%%bash\n",
    "sudo cat /sys/kernel/debug/kprobes/list"
   ]
  },
  {
   "cell_type": "code",
   "execution_count": 7,
   "metadata": {
    "slideshow": {
     "slide_type": "fragment"
    }
   },
   "outputs": [
    {
     "name": "stdout",
     "output_type": "stream",
     "text": [
      "  kprobes:demo_probe                                 [Tracepoint event]\n"
     ]
    }
   ],
   "source": [
    "%%bash\n",
    "sudo perf list | grep demo"
   ]
  },
  {
   "cell_type": "markdown",
   "metadata": {
    "slideshow": {
     "slide_type": "subslide"
    }
   },
   "source": [
    "# KProbes in Action"
   ]
  },
  {
   "cell_type": "code",
   "execution_count": null,
   "metadata": {},
   "outputs": [],
   "source": [
    "%%bash\n",
    "sudo perf stat -a -e kprobes:demo_probe sleep 10"
   ]
  },
  {
   "cell_type": "markdown",
   "metadata": {
    "slideshow": {
     "slide_type": "subslide"
    }
   },
   "source": [
    "# Removing KProbe"
   ]
  },
  {
   "cell_type": "code",
   "execution_count": 9,
   "metadata": {
    "slideshow": {
     "slide_type": "fragment"
    }
   },
   "outputs": [],
   "source": [
    "%%bash\n",
    "sudo sh -c 'echo \"-:demo_probe\" >> /sys/kernel/debug/tracing/kprobe_events'"
   ]
  },
  {
   "cell_type": "code",
   "execution_count": 10,
   "metadata": {},
   "outputs": [],
   "source": [
    "%%bash\n",
    "sudo cat /sys/kernel/debug/kprobes/list"
   ]
  },
  {
   "cell_type": "code",
   "execution_count": 11,
   "metadata": {
    "slideshow": {
     "slide_type": "fragment"
    }
   },
   "outputs": [],
   "source": [
    "%%bash\n",
    "sudo perf list | grep demo"
   ]
  }
 ],
 "metadata": {
  "celltoolbar": "Slideshow",
  "kernelspec": {
   "display_name": "Python 3",
   "language": "python",
   "name": "python3"
  },
  "language_info": {
   "codemirror_mode": {
    "name": "ipython",
    "version": 3
   },
   "file_extension": ".py",
   "mimetype": "text/x-python",
   "name": "python",
   "nbconvert_exporter": "python",
   "pygments_lexer": "ipython3",
   "version": "3.6.5"
  }
 },
 "nbformat": 4,
 "nbformat_minor": 2
}
